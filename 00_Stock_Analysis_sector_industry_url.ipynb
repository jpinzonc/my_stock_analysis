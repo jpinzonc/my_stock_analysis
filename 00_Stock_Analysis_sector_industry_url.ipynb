{
 "cells": [
  {
   "cell_type": "code",
   "execution_count": 2,
   "metadata": {},
   "outputs": [],
   "source": [
    "# Load libraries \n",
    "## Raw Packages\n",
    "import numpy as np\n",
    "import pandas as pd\n",
    "from math import pi\n",
    "# from pandas_datareader import data as pdr\n",
    "import datetime, time\n",
    "from random import sample\n",
    "## Data Source\n",
    "import yfinance as yf\n",
    "# To let pdr get data from yahoo -- https://stackoverflow.com/questions/74912452/typeerror-string-indices-must-be-integer-pandas-datareader\n",
    "# yf.pdr_override()\n",
    "from yahoo_fin import stock_info as si \n",
    "## Data Visualization \n",
    "from bokeh.plotting import figure, output_file, show, output_notebook\n",
    "from bokeh.layouts import column, row\n",
    "# Site Scrapping\n",
    "import requests\n",
    "import json\n",
    "import urllib.request\n",
    "# Utilities\n",
    "from IPython.display import clear_output"
   ]
  },
  {
   "cell_type": "code",
   "execution_count": 3,
   "metadata": {},
   "outputs": [
    {
     "name": "stderr",
     "output_type": "stream",
     "text": [
      "/opt/anaconda3/envs/p312/lib/python3.12/site-packages/yahoo_fin/stock_info.py:235: FutureWarning: Passing literal html to 'read_html' is deprecated and will be removed in a future version. To read from a literal string, wrap it in a 'StringIO' object.\n",
      "  table = pd.read_html(requests.get(site, headers=headers).text)[0]\n"
     ]
    },
    {
     "name": "stdout",
     "output_type": "stream",
     "text": [
      "ft100 \t 100\n",
      "ft250 \t 249\n",
      "ibo \t 64\n",
      "n50 \t 29\n",
      "nfb \t 12\n",
      "nas \t 4808\n",
      "dow \t 30\n",
      "other \t 6342\n",
      "sp500 \t 503\n",
      "Total Distinct Tickers 11511\n"
     ]
    }
   ],
   "source": [
    "# ft100 = si.tickers_ftse100()\n",
    "ft100= pd.read_html(\"https://en.wikipedia.org/wiki/FTSE_100_Index\", attrs = {\"id\": \"constituents\"})[0].Ticker.unique()\n",
    "\n",
    "ft100 = [i.replace(r'.', '-') for i in ft100]\n",
    "# ft250 = si.tickers_ftse250()\n",
    "ft250 = pd.read_html(\"https://en.wikipedia.org/wiki/FTSE_250_Index\", attrs = {\"id\": \"constituents\"})[0].Ticker.unique()\n",
    "\n",
    "ft250 = [i.replace(r'.', '-') for i in ft250]\n",
    "ibo = si.tickers_ibovespa()\n",
    "ibo = [i.replace(r'.', '-') for i in ibo]\n",
    "n50 = si.tickers_nifty50()\n",
    "n50 = [i.replace(r'.', '-') for i in n50]\n",
    "nfb = si.tickers_niftybank()\n",
    "nfb = [i.replace(r'.', '-') for i in nfb]\n",
    "nas = si.tickers_nasdaq()\n",
    "nas = [i.replace(r'.', '-') for i in nas]\n",
    "dow = si.tickers_dow()\n",
    "dow = [i.replace(r'.', '-') for i in dow]\n",
    "othr = si.tickers_other()\n",
    "othr = [i.replace(r'.', '-') for i in othr]\n",
    "sp500 = si.tickers_sp500()\n",
    "sp500 = [i.replace(r'.', '-') for i in sp500]\n",
    "\n",
    "\n",
    "all_yh_tic = {'ft100':ft100, 'ft250': ft250, 'ibo':ibo, 'n50':n50, 'nfb':nfb, 'nas':nas, 'dow':dow, 'other':othr, 'sp500': sp500}\n",
    "for key, value in all_yh_tic.items():\n",
    "    print(key, '\\t', len(value))\n",
    "    \n",
    "distinct_tickers = list(set(sp500) | set(dow)| set(nas)|set(othr)|set(ft100)| set(ft250)|set(ibo)|set(n50)|set(nfb))\n",
    "print('Total Distinct Tickers',len(distinct_tickers))"
   ]
  },
  {
   "cell_type": "code",
   "execution_count": 41,
   "metadata": {},
   "outputs": [],
   "source": [
    "import pandas as pd\n",
    "from yahooquery import Ticker\n",
    "import time\n",
    "tickers = Ticker(['ALLY', 'GOOGL'], asynchronous=True)\n",
    "datasi = tickers.get_modules(\"summaryProfile quoteType\")\n",
    "dfsi = pd.DataFrame.from_dict(datasi).T\n",
    "dataframes = [pd.json_normalize([x for x in dfsi[module] if isinstance(x, dict)]) for module in ['summaryProfile', 'quoteType']]"
   ]
  },
  {
   "cell_type": "code",
   "execution_count": 54,
   "metadata": {},
   "outputs": [
    {
     "data": {
      "text/html": [
       "<div>\n",
       "<style scoped>\n",
       "    .dataframe tbody tr th:only-of-type {\n",
       "        vertical-align: middle;\n",
       "    }\n",
       "\n",
       "    .dataframe tbody tr th {\n",
       "        vertical-align: top;\n",
       "    }\n",
       "\n",
       "    .dataframe thead th {\n",
       "        text-align: right;\n",
       "    }\n",
       "</style>\n",
       "<table border=\"1\" class=\"dataframe\">\n",
       "  <thead>\n",
       "    <tr style=\"text-align: right;\">\n",
       "      <th></th>\n",
       "      <th>exchange</th>\n",
       "      <th>quoteType</th>\n",
       "      <th>symbol</th>\n",
       "      <th>underlyingSymbol</th>\n",
       "      <th>shortName</th>\n",
       "      <th>longName</th>\n",
       "      <th>firstTradeDateEpochUtc</th>\n",
       "      <th>timeZoneFullName</th>\n",
       "      <th>timeZoneShortName</th>\n",
       "      <th>uuid</th>\n",
       "      <th>...</th>\n",
       "      <th>country</th>\n",
       "      <th>phone</th>\n",
       "      <th>website</th>\n",
       "      <th>industry</th>\n",
       "      <th>sector</th>\n",
       "      <th>longBusinessSummary</th>\n",
       "      <th>fullTimeEmployees</th>\n",
       "      <th>companyOfficers</th>\n",
       "      <th>maxAge</th>\n",
       "      <th>address2</th>\n",
       "    </tr>\n",
       "  </thead>\n",
       "  <tbody>\n",
       "    <tr>\n",
       "      <th>0</th>\n",
       "      <td>NMS</td>\n",
       "      <td>EQUITY</td>\n",
       "      <td>GOOGL</td>\n",
       "      <td>GOOGL</td>\n",
       "      <td>Alphabet Inc.</td>\n",
       "      <td>Alphabet Inc.</td>\n",
       "      <td>2004-08-19 08:30:00</td>\n",
       "      <td>America/New_York</td>\n",
       "      <td>EST</td>\n",
       "      <td>e15ce71f-f533-3912-9f11-a46c09e2412b</td>\n",
       "      <td>...</td>\n",
       "      <td>United States</td>\n",
       "      <td>650 253 0000</td>\n",
       "      <td>https://abc.xyz</td>\n",
       "      <td>Internet Content &amp; Information</td>\n",
       "      <td>Communication Services</td>\n",
       "      <td>Alphabet Inc. offers various products and plat...</td>\n",
       "      <td>181269</td>\n",
       "      <td>[]</td>\n",
       "      <td>86400</td>\n",
       "      <td>NaN</td>\n",
       "    </tr>\n",
       "    <tr>\n",
       "      <th>1</th>\n",
       "      <td>NYQ</td>\n",
       "      <td>EQUITY</td>\n",
       "      <td>ALLY</td>\n",
       "      <td>ALLY</td>\n",
       "      <td>Ally Financial Inc.</td>\n",
       "      <td>Ally Financial Inc.</td>\n",
       "      <td>2014-01-28 08:30:00</td>\n",
       "      <td>America/New_York</td>\n",
       "      <td>EST</td>\n",
       "      <td>8a909f5e-e918-3002-951c-d3779f9fbb0b</td>\n",
       "      <td>...</td>\n",
       "      <td>United States</td>\n",
       "      <td>866 710 4623</td>\n",
       "      <td>https://www.ally.com</td>\n",
       "      <td>Credit Services</td>\n",
       "      <td>Financial Services</td>\n",
       "      <td>Ally Financial Inc., a digital financial-servi...</td>\n",
       "      <td>11100</td>\n",
       "      <td>[]</td>\n",
       "      <td>86400</td>\n",
       "      <td>Floor 10 500 Woodward Avenue</td>\n",
       "    </tr>\n",
       "  </tbody>\n",
       "</table>\n",
       "<p>2 rows × 26 columns</p>\n",
       "</div>"
      ],
      "text/plain": [
       "  exchange quoteType symbol underlyingSymbol            shortName  \\\n",
       "0      NMS    EQUITY  GOOGL            GOOGL        Alphabet Inc.   \n",
       "1      NYQ    EQUITY   ALLY             ALLY  Ally Financial Inc.   \n",
       "\n",
       "              longName firstTradeDateEpochUtc  timeZoneFullName  \\\n",
       "0        Alphabet Inc.    2004-08-19 08:30:00  America/New_York   \n",
       "1  Ally Financial Inc.    2014-01-28 08:30:00  America/New_York   \n",
       "\n",
       "  timeZoneShortName                                  uuid  ...        country  \\\n",
       "0               EST  e15ce71f-f533-3912-9f11-a46c09e2412b  ...  United States   \n",
       "1               EST  8a909f5e-e918-3002-951c-d3779f9fbb0b  ...  United States   \n",
       "\n",
       "          phone               website                        industry  \\\n",
       "0  650 253 0000       https://abc.xyz  Internet Content & Information   \n",
       "1  866 710 4623  https://www.ally.com                 Credit Services   \n",
       "\n",
       "                   sector                                longBusinessSummary  \\\n",
       "0  Communication Services  Alphabet Inc. offers various products and plat...   \n",
       "1      Financial Services  Ally Financial Inc., a digital financial-servi...   \n",
       "\n",
       "  fullTimeEmployees companyOfficers maxAge                      address2  \n",
       "0            181269              []  86400                           NaN  \n",
       "1             11100              []  86400  Floor 10 500 Woodward Avenue  \n",
       "\n",
       "[2 rows x 26 columns]"
      ]
     },
     "execution_count": 54,
     "metadata": {},
     "output_type": "execute_result"
    }
   ],
   "source": [
    "sp = pd.json_normalize(dfsi['summaryProfile'])\n",
    "qt = pd.json_normalize(dfsi['quoteType'])\n",
    "pd.concat([qt, sp], axis = 1)"
   ]
  },
  {
   "cell_type": "code",
   "execution_count": null,
   "metadata": {},
   "outputs": [],
   "source": []
  },
  {
   "cell_type": "code",
   "execution_count": 57,
   "metadata": {},
   "outputs": [
    {
     "name": "stdout",
     "output_type": "stream",
     "text": [
      "25\n",
      "26\n",
      "27\n",
      "28\n",
      "29\n"
     ]
    }
   ],
   "source": [
    "import pandas as pd\n",
    "from yahooquery import Ticker\n",
    "import time\n",
    "ticker_list = distinct_tickers\n",
    "sector_df = pd.DataFrame()\n",
    "if len(ticker_list) > 1000:\n",
    "    symbols_a = np.array_split(ticker_list, 30)\n",
    "else: \n",
    "    symbols_a =[ticker_list]\n",
    "for i, symb_list in enumerate(symbols_a):\n",
    "    if i%5 == 0:\n",
    "        clear_output()\n",
    "    tickers = Ticker(symb_list, asynchronous=True)\n",
    "\n",
    "    datasi = tickers.get_modules(\"summaryProfile quoteType\")\n",
    "    dfsi = pd.DataFrame.from_dict(datasi).T\n",
    "    sp = pd.json_normalize(dfsi['summaryProfile'])\n",
    "    qt = pd.json_normalize(dfsi['quoteType'])\n",
    "    \n",
    "    dfsi = pd.concat([qt, sp], axis = 1)\n",
    "    if 'website' not in dfsi.columns:\n",
    "        dfsi.loc[:,'website'] = \"\"\n",
    "    if 'country' not in dfsi.columns:\n",
    "        dfsi.loc[:,'country'] = \"\"\n",
    "\n",
    "    sector_df = pd.concat([sector_df, dfsi[['symbol','country','website', 'industry', 'sector']]]).reset_index(drop = True)\n",
    "    time.sleep(1)\n",
    "    print(i)\n"
   ]
  },
  {
   "cell_type": "code",
   "execution_count": 60,
   "metadata": {},
   "outputs": [
    {
     "data": {
      "text/html": [
       "<div>\n",
       "<style scoped>\n",
       "    .dataframe tbody tr th:only-of-type {\n",
       "        vertical-align: middle;\n",
       "    }\n",
       "\n",
       "    .dataframe tbody tr th {\n",
       "        vertical-align: top;\n",
       "    }\n",
       "\n",
       "    .dataframe thead th {\n",
       "        text-align: right;\n",
       "    }\n",
       "</style>\n",
       "<table border=\"1\" class=\"dataframe\">\n",
       "  <thead>\n",
       "    <tr style=\"text-align: right;\">\n",
       "      <th></th>\n",
       "      <th>symbol</th>\n",
       "      <th>country</th>\n",
       "      <th>website</th>\n",
       "      <th>industry</th>\n",
       "      <th>sector</th>\n",
       "    </tr>\n",
       "  </thead>\n",
       "  <tbody>\n",
       "    <tr>\n",
       "      <th>312</th>\n",
       "      <td>ALLY</td>\n",
       "      <td>United States</td>\n",
       "      <td>https://www.ally.com</td>\n",
       "      <td>Credit Services</td>\n",
       "      <td>Financial Services</td>\n",
       "    </tr>\n",
       "  </tbody>\n",
       "</table>\n",
       "</div>"
      ],
      "text/plain": [
       "    symbol        country               website         industry  \\\n",
       "312   ALLY  United States  https://www.ally.com  Credit Services   \n",
       "\n",
       "                 sector  \n",
       "312  Financial Services  "
      ]
     },
     "execution_count": 60,
     "metadata": {},
     "output_type": "execute_result"
    }
   ],
   "source": [
    "sector_df[sector_df.symbol=='ALLY']"
   ]
  },
  {
   "cell_type": "code",
   "execution_count": 61,
   "metadata": {},
   "outputs": [],
   "source": [
    "sector_df1 = sector_df.dropna(how = 'all', subset = ['country', 'website', 'industry', 'sector'])\n",
    "sector_df1.columns = [col.upper() for col in sector_df1.columns]\n",
    "\n",
    "\n",
    "sector_df1.to_csv('./stock_analysis/static/ticker_sectors.csv', index = False)"
   ]
  },
  {
   "cell_type": "code",
   "execution_count": null,
   "metadata": {},
   "outputs": [],
   "source": [
    "dfsi"
   ]
  }
 ],
 "metadata": {
  "kernelspec": {
   "display_name": "p312",
   "language": "python",
   "name": "python3"
  },
  "language_info": {
   "codemirror_mode": {
    "name": "ipython",
    "version": 3
   },
   "file_extension": ".py",
   "mimetype": "text/x-python",
   "name": "python",
   "nbconvert_exporter": "python",
   "pygments_lexer": "ipython3",
   "version": "3.12.4"
  }
 },
 "nbformat": 4,
 "nbformat_minor": 2
}
